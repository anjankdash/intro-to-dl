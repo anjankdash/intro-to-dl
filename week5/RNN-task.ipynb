{
 "cells": [
  {
   "cell_type": "markdown",
   "metadata": {},
   "source": [
    "### Generating names with recurrent neural networks\n",
    "\n",
    "This time you'll find yourself delving into the heart (and other intestines) of recurrent neural networks on a class of toy problems.\n",
    "\n",
    "Struggle to find a name for the variable? Let's see how you'll come up with a name for your son/daughter. Surely no human has expertize over what is a good child name, so let us train RNN instead;\n",
    "\n",
    "It's dangerous to go alone, take these:"
   ]
  },
  {
   "cell_type": "code",
   "execution_count": 1,
   "metadata": {},
   "outputs": [
    {
     "name": "stderr",
     "output_type": "stream",
     "text": [
      "/home/ec2-user/anaconda3/envs/tensorflow_p36/lib/python3.6/importlib/_bootstrap.py:219: RuntimeWarning: compiletime version 3.5 of module 'tensorflow.python.framework.fast_tensor_util' does not match runtime version 3.6\n",
      "  return f(*args, **kwds)\n"
     ]
    }
   ],
   "source": [
    "import tensorflow as tf\n",
    "import numpy as np\n",
    "import matplotlib.pyplot as plt\n",
    "%matplotlib inline"
   ]
  },
  {
   "cell_type": "markdown",
   "metadata": {},
   "source": [
    "# Our data\n",
    "The dataset contains ~8k earthling names from different cultures, all in latin transcript.\n",
    "\n",
    "This notebook has been designed so as to allow you to quickly swap names for something similar: deep learning article titles, IKEA furniture, pokemon names, etc."
   ]
  },
  {
   "cell_type": "code",
   "execution_count": 2,
   "metadata": {},
   "outputs": [],
   "source": [
    "import os\n",
    "start_token = \" \"\n",
    "\n",
    "with open(\"names\") as f:\n",
    "    names = f.read()[:-1].split('\\n')\n",
    "    names = [start_token+name for name in names]"
   ]
  },
  {
   "cell_type": "code",
   "execution_count": 3,
   "metadata": {},
   "outputs": [
    {
     "name": "stdout",
     "output_type": "stream",
     "text": [
      "n samples =  7944\n",
      " Abagael\n",
      " Claresta\n",
      " Glory\n",
      " Liliane\n",
      " Prissie\n",
      " Geeta\n",
      " Giovanne\n",
      " Piggy\n"
     ]
    }
   ],
   "source": [
    "print ('n samples = ',len(names))\n",
    "for x in names[::1000]:\n",
    "    print (x)\n",
    "    \n"
   ]
  },
  {
   "cell_type": "code",
   "execution_count": 4,
   "metadata": {},
   "outputs": [
    {
     "data": {
      "text/plain": [
       "[' Abagael',\n",
       " ' Abagail',\n",
       " ' Abbe',\n",
       " ' Abbey',\n",
       " ' Abbi',\n",
       " ' Abbie',\n",
       " ' Abby',\n",
       " ' Abigael',\n",
       " ' Abigail',\n",
       " ' Abigale',\n",
       " ' Abra',\n",
       " ' Acacia',\n",
       " ' Ada',\n",
       " ' Adah',\n",
       " ' Adaline',\n",
       " ' Adara',\n",
       " ' Addie',\n",
       " ' Addis',\n",
       " ' Adel',\n",
       " ' Adela',\n",
       " ' Adelaide',\n",
       " ' Adele',\n",
       " ' Adelice',\n",
       " ' Adelina',\n",
       " ' Adelind',\n",
       " ' Adeline',\n",
       " ' Adella',\n",
       " ' Adelle',\n",
       " ' Adena',\n",
       " ' Adey',\n",
       " ' Adi',\n",
       " ' Adiana',\n",
       " ' Adina',\n",
       " ' Adora',\n",
       " ' Adore',\n",
       " ' Adoree',\n",
       " ' Adorne',\n",
       " ' Adrea',\n",
       " ' Adria',\n",
       " ' Adriaens',\n",
       " ' Adrian',\n",
       " ' Adriana',\n",
       " ' Adriane',\n",
       " ' Adrianna']"
      ]
     },
     "execution_count": 4,
     "metadata": {},
     "output_type": "execute_result"
    }
   ],
   "source": [
    "names[:-7900]"
   ]
  },
  {
   "cell_type": "code",
   "execution_count": 5,
   "metadata": {},
   "outputs": [
    {
     "name": "stdout",
     "output_type": "stream",
     "text": [
      "max length = 16\n"
     ]
    },
    {
     "data": {
      "image/png": "[encoded data removed]",
      "text/plain": [
       "<matplotlib.figure.Figure at 0x7fa840dfd7b8>"
      ]
     },
     "metadata": {},
     "output_type": "display_data"
    }
   ],
   "source": [
    "MAX_LENGTH = max(map(len,names))\n",
    "print(\"max length =\", MAX_LENGTH)\n",
    "\n",
    "plt.title('Sequence length distribution')\n",
    "plt.hist(list(map(len,names)),bins=25);"
   ]
  },
  {
   "cell_type": "markdown",
   "metadata": {},
   "source": [
    "# Text processing\n",
    "\n",
    "First we need next to collect a \"vocabulary\" of all unique tokens i.e. unique characters. We can then encode inputs as a sequence of character ids."
   ]
  },
  {
   "cell_type": "code",
   "execution_count": 6,
   "metadata": {},
   "outputs": [
    {
     "name": "stdout",
     "output_type": "stream",
     "text": [
      "n_tokens =  55\n"
     ]
    }
   ],
   "source": [
    "\n",
    "tokens_list = []\n",
    "\n",
    "for x in names :\n",
    "     tokens_list.extend(list(x))\n",
    "\n",
    "#all unique characters go here\n",
    "tokens = set(tokens_list)# <all unique characters in the dataset>\n",
    "\n",
    "tokens = list(tokens)\n",
    "sorted(tokens)\n",
    "n_tokens = len(tokens)\n",
    "print ('n_tokens = ',n_tokens)\n",
    "\n",
    "assert 50 < n_tokens < 60\n"
   ]
  },
  {
   "cell_type": "markdown",
   "metadata": {},
   "source": [
    "### Cast everything from symbols into identifiers\n",
    "\n",
    "Tensorflow string manipulation is a bit tricky, so we'll work around it. \n",
    "We'll feed our recurrent neural network with ids of characters from our dictionary.\n",
    "\n",
    "To create such dictionary, let's assign "
   ]
  },
  {
   "cell_type": "code",
   "execution_count": 7,
   "metadata": {},
   "outputs": [
    {
     "name": "stdout",
     "output_type": "stream",
     "text": [
      "{'S': 0, 'L': 1, 'n': 2, 'p': 3, 'H': 4, 'm': 5, 'j': 6, 'k': 7, 'P': 8, 'R': 9, 'Y': 10, 'x': 11, 'u': 12, 'U': 13, 'O': 14, 'A': 15, 'v': 16, 'e': 17, 'X': 18, '-': 19, \"'\": 20, 'h': 21, 'Z': 22, 'r': 23, 'y': 24, 'T': 25, 'o': 26, 'w': 27, 'K': 28, 'E': 29, 'G': 30, 'D': 31, 'g': 32, 'i': 33, 'f': 34, 'N': 35, 'Q': 36, 'M': 37, 'a': 38, 'c': 39, 'V': 40, 't': 41, 's': 42, 'd': 43, 'z': 44, 'W': 45, 'B': 46, 'b': 47, ' ': 48, 'q': 49, 'C': 50, 'J': 51, 'l': 52, 'F': 53, 'I': 54}\n"
     ]
    }
   ],
   "source": [
    "token_to_id = {}\n",
    "for i, t in enumerate(tokens):\n",
    "    token_to_id.update({t:i})\n",
    "print(token_to_id)\n",
    "#token_to_id = map(tokens, %%!) ###YOUR CODE HERE: create a dictionary of {symbol -> its  index in tokens }\n",
    "\n"
   ]
  },
  {
   "cell_type": "code",
   "execution_count": 8,
   "metadata": {},
   "outputs": [
    {
     "name": "stdout",
     "output_type": "stream",
     "text": [
      "Seems alright!\n"
     ]
    }
   ],
   "source": [
    "assert len(tokens) == len(token_to_id), \"dictionaries must have same size\"\n",
    "\n",
    "for i in range(n_tokens):\n",
    "    assert token_to_id[tokens[i]] == i, \"token identifier must be it's position in tokens list\"\n",
    "\n",
    "print(\"Seems alright!\")"
   ]
  },
  {
   "cell_type": "code",
   "execution_count": 9,
   "metadata": {},
   "outputs": [],
   "source": [
    "def to_matrix(names,max_len=None,pad=0,dtype='int32'):\n",
    "    \"\"\"Casts a list of names into rnn-digestable matrix\"\"\"\n",
    "    \n",
    "    max_len = max_len or max(map(len,names))\n",
    "    names_ix = np.zeros([len(names),max_len],dtype) + pad\n",
    "\n",
    "    for i in range(len(names)):\n",
    "        name_ix = list(map(token_to_id.get,names[i]))\n",
    "        names_ix[i,:len(name_ix)] = name_ix\n",
    "\n",
    "    return names_ix.T"
   ]
  },
  {
   "cell_type": "code",
   "execution_count": 10,
   "metadata": {},
   "outputs": [
    {
     "name": "stdout",
     "output_type": "stream",
     "text": [
      " Abagael\n",
      " Glory\n",
      " Prissie\n",
      " Giovanne\n",
      "[[48 15 47 38 32 38 17 52  0]\n",
      " [48 30 52 26 23 24  0  0  0]\n",
      " [48  8 23 33 42 42 33 17  0]\n",
      " [48 30 33 26 16 38  2  2 17]]\n"
     ]
    }
   ],
   "source": [
    "#Example: cast 4 random names to matrices, pad with zeros\n",
    "print('\\n'.join(names[::2000]))\n",
    "print(to_matrix(names[::2000]).T)"
   ]
  },
  {
   "cell_type": "markdown",
   "metadata": {},
   "source": [
    "# Recurrent neural network\n",
    "\n",
    "We can rewrite recurrent neural network as a consecutive application of dense layer to input $x_t$ and previous rnn state $h_t$. This is exactly what we're gonna do now.\n",
    "<img src=\"./rnn.png\" width=480>\n",
    "\n",
    "Since we're training a language model, there should also be:\n",
    "* An embedding layer that converts character id x_t to a vector.\n",
    "* An output layer that predicts probabilities of next phoneme"
   ]
  },
  {
   "cell_type": "code",
   "execution_count": 11,
   "metadata": {},
   "outputs": [
    {
     "name": "stdout",
     "output_type": "stream",
     "text": [
      "<keras.layers.embeddings.Embedding object at 0x7fa840dfd048>\n"
     ]
    },
    {
     "name": "stderr",
     "output_type": "stream",
     "text": [
      "Using TensorFlow backend.\n"
     ]
    }
   ],
   "source": [
    "import keras\n",
    "from keras.layers import Concatenate,Dense,Embedding\n",
    "\n",
    "rnn_num_units = 64\n",
    "embedding_size = 16\n",
    "\n",
    "#Let's create layers for our recurrent network\n",
    "#Note: we create layers but we don't \"apply\" them yet\n",
    "embed_x = Embedding(n_tokens,embedding_size) # an embedding layer that converts character ids into embeddings\n",
    "\n",
    "print(embed_x)\n",
    "\n",
    "#a dense layer that maps input and previous state to new hidden state, [x_t,h_t]->h_t+1\n",
    "\n",
    "get_h_next = Dense(units=rnn_num_units, activation='relu', input_shape=(16,))\n",
    "\n",
    "#a dense layer that maps current hidden state to probabilities of characters [h_t+1]->P(x_t+1|h_t+1)\n",
    "get_probas = Dense(n_tokens, activation='softmax')###YOUR CODE HERE \n",
    "\n",
    "#Note: please either set the correct activation to Dense or write it manually in rnn_one_step"
   ]
  },
  {
   "cell_type": "markdown",
   "metadata": {},
   "source": [
    "#### tryout"
   ]
  },
  {
   "cell_type": "code",
   "execution_count": null,
   "metadata": {},
   "outputs": [],
   "source": []
  },
  {
   "cell_type": "code",
   "execution_count": 35,
   "metadata": {},
   "outputs": [],
   "source": [
    "def rnn_one_step(x_t, h_t):\n",
    "    \"\"\"\n",
    "    Recurrent neural network step that produces next state and output\n",
    "    given prev input and previous state.\n",
    "    We'll call this method repeatedly to produce the whole sequence.\n",
    "    \n",
    "    Follow inline isntructions to complete the function.\n",
    "    \"\"\"\n",
    "    #convert character id into embedding\n",
    "    x_t_emb = embed_x(tf.reshape(x_t,[-1,1]))[:,0]\n",
    "    \n",
    "    print(\" x_t_emb \",  x_t_emb)\n",
    "    print(\" h_t \",  h_t)\n",
    "    \n",
    "    \n",
    "    #concatenate x embedding and previous h state\n",
    "    x_and_h =  tf.concat([x_t_emb, h_t], 1) ###YOUR CODE HERE\n",
    "    \n",
    "    print( \" x and h \" ,  tf.shape(x_and_h))\n",
    "    \n",
    "    #compute next state given x_and_h\n",
    "    h_next = get_h_next(x_and_h)   ###YOUR CODE HERE\n",
    "    \n",
    "    #get probabilities for language model P(x_next|h_next)\n",
    "    output_probas = get_probas(h_next) ###YOUR CODE HERE\n",
    "    \n",
    "    return output_probas,h_next"
   ]
  },
  {
   "cell_type": "markdown",
   "metadata": {},
   "source": [
    "### RNN loop\n",
    "\n",
    "Once rnn_one_step is ready, let's apply it in a loop over name characters to get predictions.\n",
    "\n",
    "Let's assume that all names are at most length-16 for now, so we can simply iterate over them in a for loop.\n"
   ]
  },
  {
   "cell_type": "code",
   "execution_count": 36,
   "metadata": {},
   "outputs": [
    {
     "name": "stdout",
     "output_type": "stream",
     "text": [
      " Hidden state shape :  (?, 64)\n",
      " x_t_emb  Tensor(\"strided_slice_155:0\", shape=(?, 16), dtype=float32)\n",
      " h_t  Tensor(\"zeros_11:0\", shape=(?, 64), dtype=float32)\n",
      " x and h  Tensor(\"Shape_76:0\", shape=(2,), dtype=int32)\n",
      " x_t_emb  Tensor(\"strided_slice_157:0\", shape=(?, 16), dtype=float32)\n",
      " h_t  Tensor(\"dense_1_64/Relu:0\", shape=(?, 64), dtype=float32)\n",
      " x and h  Tensor(\"Shape_77:0\", shape=(2,), dtype=int32)\n",
      " x_t_emb  Tensor(\"strided_slice_159:0\", shape=(?, 16), dtype=float32)\n",
      " h_t  Tensor(\"dense_1_65/Relu:0\", shape=(?, 64), dtype=float32)\n",
      " x and h  Tensor(\"Shape_78:0\", shape=(2,), dtype=int32)\n",
      " x_t_emb  Tensor(\"strided_slice_161:0\", shape=(?, 16), dtype=float32)\n",
      " h_t  Tensor(\"dense_1_66/Relu:0\", shape=(?, 64), dtype=float32)\n",
      " x and h  Tensor(\"Shape_79:0\", shape=(2,), dtype=int32)\n",
      " x_t_emb  Tensor(\"strided_slice_163:0\", shape=(?, 16), dtype=float32)\n",
      " h_t  Tensor(\"dense_1_67/Relu:0\", shape=(?, 64), dtype=float32)\n",
      " x and h  Tensor(\"Shape_80:0\", shape=(2,), dtype=int32)\n",
      " x_t_emb  Tensor(\"strided_slice_165:0\", shape=(?, 16), dtype=float32)\n",
      " h_t  Tensor(\"dense_1_68/Relu:0\", shape=(?, 64), dtype=float32)\n",
      " x and h  Tensor(\"Shape_81:0\", shape=(2,), dtype=int32)\n",
      " x_t_emb  Tensor(\"strided_slice_167:0\", shape=(?, 16), dtype=float32)\n",
      " h_t  Tensor(\"dense_1_69/Relu:0\", shape=(?, 64), dtype=float32)\n",
      " x and h  Tensor(\"Shape_82:0\", shape=(2,), dtype=int32)\n",
      " x_t_emb  Tensor(\"strided_slice_169:0\", shape=(?, 16), dtype=float32)\n",
      " h_t  Tensor(\"dense_1_70/Relu:0\", shape=(?, 64), dtype=float32)\n",
      " x and h  Tensor(\"Shape_83:0\", shape=(2,), dtype=int32)\n",
      " x_t_emb  Tensor(\"strided_slice_171:0\", shape=(?, 16), dtype=float32)\n",
      " h_t  Tensor(\"dense_1_71/Relu:0\", shape=(?, 64), dtype=float32)\n",
      " x and h  Tensor(\"Shape_84:0\", shape=(2,), dtype=int32)\n",
      " x_t_emb  Tensor(\"strided_slice_173:0\", shape=(?, 16), dtype=float32)\n",
      " h_t  Tensor(\"dense_1_72/Relu:0\", shape=(?, 64), dtype=float32)\n",
      " x and h  Tensor(\"Shape_85:0\", shape=(2,), dtype=int32)\n",
      " x_t_emb  Tensor(\"strided_slice_175:0\", shape=(?, 16), dtype=float32)\n",
      " h_t  Tensor(\"dense_1_73/Relu:0\", shape=(?, 64), dtype=float32)\n",
      " x and h  Tensor(\"Shape_86:0\", shape=(2,), dtype=int32)\n",
      " x_t_emb  Tensor(\"strided_slice_177:0\", shape=(?, 16), dtype=float32)\n",
      " h_t  Tensor(\"dense_1_74/Relu:0\", shape=(?, 64), dtype=float32)\n",
      " x and h  Tensor(\"Shape_87:0\", shape=(2,), dtype=int32)\n",
      " x_t_emb  Tensor(\"strided_slice_179:0\", shape=(?, 16), dtype=float32)\n",
      " h_t  Tensor(\"dense_1_75/Relu:0\", shape=(?, 64), dtype=float32)\n",
      " x and h  Tensor(\"Shape_88:0\", shape=(2,), dtype=int32)\n",
      " x_t_emb  Tensor(\"strided_slice_181:0\", shape=(?, 16), dtype=float32)\n",
      " h_t  Tensor(\"dense_1_76/Relu:0\", shape=(?, 64), dtype=float32)\n",
      " x and h  Tensor(\"Shape_89:0\", shape=(2,), dtype=int32)\n",
      " x_t_emb  Tensor(\"strided_slice_183:0\", shape=(?, 16), dtype=float32)\n",
      " h_t  Tensor(\"dense_1_77/Relu:0\", shape=(?, 64), dtype=float32)\n",
      " x and h  Tensor(\"Shape_90:0\", shape=(2,), dtype=int32)\n",
      " x_t_emb  Tensor(\"strided_slice_185:0\", shape=(?, 16), dtype=float32)\n",
      " h_t  Tensor(\"dense_1_78/Relu:0\", shape=(?, 64), dtype=float32)\n",
      " x and h  Tensor(\"Shape_91:0\", shape=(2,), dtype=int32)\n"
     ]
    }
   ],
   "source": [
    "input_sequence = tf.placeholder('int32',(MAX_LENGTH,None))\n",
    "batch_size = tf.shape(input_sequence)[1]\n",
    "\n",
    "predicted_probas = []\n",
    "h_prev = tf.zeros([batch_size,rnn_num_units]) #initial hidden state\n",
    "\n",
    "print( \" Hidden state shape : \" , h_prev.shape)\n",
    "\n",
    "for t in range(MAX_LENGTH):\n",
    "    x_t = input_sequence[t]\n",
    "    probas_next,h_next = rnn_one_step(x_t,h_prev)\n",
    "    \n",
    "    h_prev = h_next\n",
    "    predicted_probas.append(probas_next)\n",
    "    \n",
    "predicted_probas = tf.stack(predicted_probas)"
   ]
  },
  {
   "cell_type": "markdown",
   "metadata": {},
   "source": [
    "## RNN: loss and gradients\n",
    "\n",
    "Let's gather a matrix of predictions for $P(x_{next}|h)$ and the corresponding correct answers.\n",
    "\n",
    "Our network can then be trained by minimizing crossentropy between predicted probabilities and those answers."
   ]
  },
  {
   "cell_type": "code",
   "execution_count": 37,
   "metadata": {},
   "outputs": [
    {
     "name": "stdout",
     "output_type": "stream",
     "text": [
      "Tensor(\"Reshape_87:0\", shape=(?, 55), dtype=float32)\n",
      "Tensor(\"one_hot:0\", shape=(?, 55), dtype=float32)\n"
     ]
    }
   ],
   "source": [
    "predictions_matrix = tf.reshape(predicted_probas[:-1],[-1,len(tokens)])\n",
    "answers_matrix = tf.one_hot(tf.reshape(input_sequence[1:],[-1]), n_tokens)\n",
    "print(predictions_matrix)\n",
    "print(answers_matrix)"
   ]
  },
  {
   "cell_type": "code",
   "execution_count": 38,
   "metadata": {},
   "outputs": [],
   "source": [
    "#logits = tf.subtract(tf.log(predictions_matrix), tf.log( 1 - predictions_matrix))\n",
    "\n",
    "#loss = tf.losses. softmax_cross_entropy(onehot_labels=answers_matrix, logits=predictions_matrix ) #<define loss as categorical crossentropy. Mind that predictions are probabilities and NOT logits!>\n",
    "\n",
    "loss = tf.keras.losses.categorical_crossentropy(answers_matrix, predictions_matrix)\n",
    "optimize = tf.train.AdamOptimizer().minimize(loss)"
   ]
  },
  {
   "cell_type": "markdown",
   "metadata": {},
   "source": [
    "### The training loop"
   ]
  },
  {
   "cell_type": "code",
   "execution_count": 39,
   "metadata": {},
   "outputs": [],
   "source": [
    "from IPython.display import clear_output\n",
    "from random import sample\n",
    "s = keras.backend.get_session()\n",
    "s.run(tf.global_variables_initializer())\n",
    "history = []"
   ]
  },
  {
   "cell_type": "code",
   "execution_count": 40,
   "metadata": {},
   "outputs": [
    {
     "data": {
      "image/png": "[encoded data removed]",
      "text/plain": [
       "<matplotlib.figure.Figure at 0x7fa7981ad1d0>"
      ]
     },
     "metadata": {},
     "output_type": "display_data"
    }
   ],
   "source": [
    "\n",
    "for i in range(1000):\n",
    "    batch = to_matrix(sample(names,32),max_len=MAX_LENGTH)\n",
    "    loss_i,_ = s.run([loss,optimize],{input_sequence:batch})\n",
    "    \n",
    "    \n",
    "    history.append(loss_i)\n",
    "    if (i+1)%100==0:\n",
    "        clear_output(True)\n",
    "        plt.plot(history,label='loss')\n",
    "        plt.legend()\n",
    "        plt.show()\n",
    "\n",
    "assert np.mean(history[:10]) > np.mean(history[-10:]), \"RNN didn't converge.\""
   ]
  },
  {
   "cell_type": "markdown",
   "metadata": {},
   "source": [
    "### RNN: sampling\n",
    "Once we've trained our network a bit, let's get to actually generating stuff. All we need is the `rnn_one_step` function you have written above."
   ]
  },
  {
   "cell_type": "code",
   "execution_count": 41,
   "metadata": {},
   "outputs": [
    {
     "name": "stdout",
     "output_type": "stream",
     "text": [
      " x_t_emb  Tensor(\"strided_slice_188:0\", shape=(?, 16), dtype=float32)\n",
      " h_t  <tf.Variable 'Variable:0' shape=(1, 64) dtype=float32_ref>\n",
      " x and h  Tensor(\"Shape_92:0\", shape=(2,), dtype=int32)\n"
     ]
    }
   ],
   "source": [
    "x_t = tf.placeholder('int32',(None,))\n",
    "h_t = tf.Variable(np.zeros([1,rnn_num_units],'float32'))\n",
    "\n",
    "next_probs,next_h = rnn_one_step(x_t,h_t)"
   ]
  },
  {
   "cell_type": "code",
   "execution_count": 42,
   "metadata": {},
   "outputs": [],
   "source": [
    "def generate_sample(seed_phrase=' ',max_length=MAX_LENGTH):\n",
    "    '''\n",
    "    The function generates text given a phrase of length at least SEQ_LENGTH.\n",
    "        \n",
    "    parameters:\n",
    "        The phrase is set using the variable seed_phrase\n",
    "        The optional input \"N\" is used to set the number of characters of text to predict.     \n",
    "    '''\n",
    "    x_sequence = [token_to_id[token] for token in seed_phrase]\n",
    "    s.run(tf.assign(h_t,h_t.initial_value))\n",
    "    \n",
    "    #feed the seed phrase, if any\n",
    "    for ix in x_sequence[:-1]:\n",
    "         s.run(tf.assign(h_t,next_h),{x_t:[ix]})\n",
    "    \n",
    "    #start generating\n",
    "    for _ in range(max_length-len(seed_phrase)):\n",
    "        x_probs,_ = s.run([next_probs,tf.assign(h_t,next_h)],{x_t:[x_sequence[-1]]})\n",
    "        x_sequence.append(np.random.choice(n_tokens,p=x_probs[0]))\n",
    "        \n",
    "    return ''.join([tokens[ix] for ix in x_sequence])"
   ]
  },
  {
   "cell_type": "code",
   "execution_count": 43,
   "metadata": {},
   "outputs": [
    {
     "name": "stdout",
     "output_type": "stream",
     "text": [
      " KibpSSSSSSSSSSS\n",
      " DelliSSSSSSSSSS\n",
      " MereniheSSSSSSS\n",
      " AnasnttSSSSSSSS\n",
      " QerySSSSSSSSSSS\n",
      " EloySSSSSSSSSSS\n",
      " DistumneySSSSSS\n",
      " WrikSSSSSSSSSSS\n",
      " NrineSSSSSSSSSS\n",
      " HalatSSSSSSSSSS\n"
     ]
    }
   ],
   "source": [
    "for _ in range(10):\n",
    "    print(generate_sample())"
   ]
  },
  {
   "cell_type": "code",
   "execution_count": 44,
   "metadata": {},
   "outputs": [
    {
     "name": "stdout",
     "output_type": "stream",
     "text": [
      " TrumpaSSSSSSSSS\n",
      " TrumpandSSSSSSS\n",
      " TrumpeySSSSSSSS\n",
      " TrumpaSSSSSSSSS\n",
      " TrumpidSSSSSSSS\n",
      " TrumpennoSSSSSS\n",
      " TrumpanenSSSSSS\n",
      " TrumpietteSSSSS\n",
      " TrumphinaSSSSSS\n",
      " TrumpaSSSSSSSSS\n",
      " TrumpaettarSSSS\n",
      " TrumpiSSSSSSSSS\n",
      " TrumpkanadSSSSS\n",
      " TrumpaerdSSSSSS\n",
      " TrumpeSSSSSSSSS\n",
      " TrumpeSSSSSSSSS\n",
      " TrumpSSSSSSSSSS\n",
      " TrumpariSSSSSSS\n",
      " TrumptendonSSSS\n",
      " TrumpteSSSSSSSS\n",
      " TrumpelSSSSSSSS\n",
      " TrumperleSSSSSS\n",
      " TrumphittisSSSS\n",
      " TrumpaSSSSSSSSS\n",
      " TrumpinseSSSSSS\n",
      " TrumpitieSSSSSS\n",
      " TrumpaSSSSSSSSS\n",
      " TrumprinSSSSSSS\n",
      " TrumpesSSSSSSSS\n",
      " Trump-SSSSSSSSS\n",
      " TrumpeSSSSSSSSS\n",
      " TrumpieSSSSSSSS\n",
      " TrumpSSSSSSSSSS\n",
      " TrumpaSSSSSSSSS\n",
      " TrumpnaSSSSSSSS\n",
      " TrumpilenSSSSSS\n",
      " TrumpiannSSSSSS\n",
      " TrumpiaSSSSSSSS\n",
      " TrumpeSSSSSSSSS\n",
      " TrumpeSSSSSSSSS\n",
      " TrumpaSSSSSSSSS\n",
      " TrumpalceSSSSSS\n",
      " TrumparlanSSSSS\n",
      " TrumptteeSSSSSS\n",
      " TrumphedaSSSSSS\n",
      " TrumpiriaSSSSSS\n",
      " TrumpSSSSSSSSSS\n",
      " TrumpitraSSSSSS\n",
      " TrumperreSSSSSS\n",
      " TrumpecdeSSSSSS\n"
     ]
    }
   ],
   "source": [
    "for _ in range(50):\n",
    "    print(generate_sample(' Trump'))"
   ]
  },
  {
   "cell_type": "markdown",
   "metadata": {},
   "source": [
    "### Submit to coursera"
   ]
  },
  {
   "cell_type": "code",
   "execution_count": 45,
   "metadata": {},
   "outputs": [
    {
     "name": "stdout",
     "output_type": "stream",
     "text": [
      "Submitted to Coursera platform. See results on assignment page!\n"
     ]
    }
   ],
   "source": [
    "from submit import submit_char_rnn\n",
    "samples = [generate_sample(' Al') for i in range(25)]\n",
    "submission = (history,samples)\n",
    "submit_char_rnn(submission, 'anjandash@gmail.com', 'Dv0Ku180EFF5FfKY')"
   ]
  },
  {
   "cell_type": "markdown",
   "metadata": {},
   "source": [
    "### Try it out!\n",
    "\n",
    "__Disclaimer:__ This assignment is entirely optional. You won't receive bonus points for it. However, it's a fun thing to do. Please share your results on course forums.\n",
    "\n",
    "You've just implemented a recurrent language model that can be tasked with generating any kind of sequence, so there's plenty of data you can try it on:\n",
    "\n",
    "* Novels/poems/songs of your favorite author\n",
    "* News titles/clickbait titles\n",
    "* Source code of Linux or Tensorflow\n",
    "* Molecules in [smiles](https://en.wikipedia.org/wiki/Simplified_molecular-input_line-entry_system) format\n",
    "* Melody in notes/chords format\n",
    "* Ikea catalog titles\n",
    "* Pokemon names\n",
    "* Cards from Magic, the Gathering / Hearthstone\n",
    "\n",
    "If you're willing to give it a try, here's what you wanna look at:\n",
    "* Current data format is a sequence of lines, so a novel can be formatted as a list of sentences. Alternatively, you can change data preprocessing altogether.\n",
    "* While some datasets are readily available, others can only be scraped from the web. Try `Selenium` or `Scrapy` for that.\n",
    "* Make sure MAX_LENGTH is adjusted for longer datasets. There's also a bonus section about dynamic RNNs at the bottom.\n",
    "* More complex tasks require larger RNN architecture, try more neurons or several layers. It would also require more training iterations.\n",
    "* Long-term dependencies in music, novels or molecules are better handled with LSTM or GRU\n",
    "\n",
    "__Good hunting!__"
   ]
  },
  {
   "cell_type": "markdown",
   "metadata": {
    "collapsed": true
   },
   "source": [
    "### Bonus level: dynamic RNNs\n",
    "\n",
    "Apart from keras, there's also a friendly tensorflow API for recurrent neural nets. It's based around the symbolic loop function (aka [scan](https://www.tensorflow.org/api_docs/python/tf/scan)).\n",
    "\n",
    "This interface allows for dynamic sequence length and comes with some pre-implemented architectures."
   ]
  },
  {
   "cell_type": "code",
   "execution_count": 46,
   "metadata": {},
   "outputs": [
    {
     "ename": "SyntaxError",
     "evalue": "invalid syntax (<ipython-input-46-f5c9934ac93f>, line 16)",
     "output_type": "error",
     "traceback": [
      "\u001b[0;36m  File \u001b[0;32m\"<ipython-input-46-f5c9934ac93f>\"\u001b[0;36m, line \u001b[0;32m16\u001b[0m\n\u001b[0;31m    print predicted_probas.eval({input_sequence:to_matrix(names[:10],max_len=50)}).shape\u001b[0m\n\u001b[0m                         ^\u001b[0m\n\u001b[0;31mSyntaxError\u001b[0m\u001b[0;31m:\u001b[0m invalid syntax\n"
     ]
    }
   ],
   "source": [
    "class CustomRNN(tf.nn.rnn_cell.BasicRNNCell):\n",
    "    def call(self,input,state):\n",
    "        return rnn_one_step(input[:,0],state)\n",
    "    \n",
    "    @property\n",
    "    def output_size(self):\n",
    "        return n_tokens\n",
    "\n",
    "cell = CustomRNN(rnn_num_units)\n",
    "\n",
    "input_sequence = tf.placeholder('int32',(None,None))\n",
    "    \n",
    "predicted_probas, last_state = tf.nn.dynamic_rnn(cell,input_sequence[:,:,None],\n",
    "                                                 time_major=True,dtype='float32')\n",
    "\n",
    "print predicted_probas.eval({input_sequence:to_matrix(names[:10],max_len=50)}).shape"
   ]
  },
  {
   "cell_type": "markdown",
   "metadata": {},
   "source": [
    "Note that we never used MAX_LENGTH in the code above: TF will iterate over however many time-steps you gave it.\n",
    "\n",
    "You can also use the all the pre-implemented RNN cells:"
   ]
  },
  {
   "cell_type": "code",
   "execution_count": null,
   "metadata": {},
   "outputs": [],
   "source": [
    "for obj in dir(tf.nn.rnn_cell)+dir(tf.contrib.rnn):\n",
    "    if obj.endswith('Cell'):\n",
    "        print (obj)"
   ]
  },
  {
   "cell_type": "code",
   "execution_count": null,
   "metadata": {},
   "outputs": [],
   "source": [
    "input_sequence = tf.placeholder('int32',(None,None))\n",
    "\n",
    "inputs_embedded = embed_x(input_sequence)\n",
    "\n",
    "cell = tf.nn.rnn_cell.LSTMCell(rnn_num_units)\n",
    "\n",
    "state_sequence,last_state = tf.nn.dynamic_rnn(cell,inputs_embedded,dtype='float32')\n",
    "\n",
    "print('LSTM visible states[time,batch,unit]:', state_sequence)"
   ]
  }
 ],
 "metadata": {
  "kernelspec": {
   "display_name": "Python [default]",
   "language": "python",
   "name": "python3"
  },
  "language_info": {
   "codemirror_mode": {
    "name": "ipython",
    "version": 3
   },
   "file_extension": ".py",
   "mimetype": "text/x-python",
   "name": "python",
   "nbconvert_exporter": "python",
   "pygments_lexer": "ipython3",
   "version": "3.6.3"
  }
 },
 "nbformat": 4,
 "nbformat_minor": 1
}
